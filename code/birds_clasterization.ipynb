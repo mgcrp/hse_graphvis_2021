{
 "cells": [
  {
   "cell_type": "code",
   "execution_count": 1,
   "metadata": {},
   "outputs": [],
   "source": [
    "import numpy as np\n",
    "import pandas as pd\n",
    "\n",
    "from math import *\n",
    "from sklearn.cluster import DBSCAN\n",
    "\n",
    "pd.options.display.max_rows = 5\n",
    "pd.options.display.max_columns = 50"
   ]
  },
  {
   "cell_type": "code",
   "execution_count": null,
   "metadata": {},
   "outputs": [],
   "source": [
    "l = ['0228693-200613084148143.csv', '0228696-200613084148143.csv', '0228699-200613084148143.csv', '0228685-200613084148143.csv', '0228689-200613084148143.csv', '0228687-200613084148143.csv']\n",
    "\n",
    "df = pd.read_csv('Telegram Desktop\\\\' + l[0] , delimiter = '\\t')\n",
    "for i in range(1, len(l)):\n",
    "    df = df.append(pd.read_csv('Telegram Desktop\\\\' + l[i], delimiter = '\\t'))\n",
    "\n",
    "df.head(10)"
   ]
  },
  {
   "cell_type": "code",
   "execution_count": null,
   "metadata": {},
   "outputs": [],
   "source": [
    "def calc_dist(x1, y1, x2, y2):\n",
    "    return sqrt((x1-x2)*(x1-x2) + (y1-y2)*(y1-y2))\n",
    "\n",
    "\n",
    "def flight_by_bird(bird):\n",
    "    a = [[]]\n",
    "    \n",
    "    #кластеры для каждого месяца\n",
    "    for i in range(1, 13):\n",
    "        df_one_species = df[(df['species'] == bird) & (df['month'] == i)][['decimalLatitude', 'decimalLongitude']]\n",
    "        if df_one_species.shape[0] > 0:\n",
    "            clustering = DBSCAN(eps=2, min_samples=20).fit(df_one_species)\n",
    "            for j in range(clustering.labels_.max()+1):\n",
    "                a.append([df_one_species[clustering.labels_ == j]['decimalLatitude'].mean(), df_one_species[clustering.labels_ == j]['decimalLongitude'].mean(), i])\n",
    "    monthly_clusters = np.zeros((len(a) - 1, 5))\n",
    "    monthly_clusters[:,:3] = np.array(a[1:])\n",
    "    \n",
    "    #кластеры кластеров\n",
    "    clustering = DBSCAN(eps=5, min_samples=3).fit(monthly_clusters[:,:2])\n",
    "    \n",
    "    #переводим месяца в координаты (одна координата от января от июля, другая от октября до апреля)\n",
    "    for i in range(monthly_clusters.shape[0]):\n",
    "        month = monthly_clusters[i,2]\n",
    "        if month <= 7:\n",
    "            monthly_clusters[i,3] = month-1\n",
    "        else:\n",
    "            monthly_clusters[i,3] = 13-month\n",
    "        if month <= 4:\n",
    "            monthly_clusters[i,4] = month+2\n",
    "        elif month <= 10:\n",
    "            monthly_clusters[i,4] = 10-month\n",
    "        else:\n",
    "            monthly_clusters[i,4] = month-10\n",
    "    \n",
    "    #Средние координаты месяцев\n",
    "    clusters = [[monthly_clusters[clustering.labels_ == j, 3].mean(), monthly_clusters[clustering.labels_ == j, 4].mean()] for j in range(clustering.labels_.max()+1)]\n",
    "    \n",
    "    #Находим 2 самых далёких по средему месяцу кластера\n",
    "    first_cl = -1\n",
    "    second_cl = -1\n",
    "    time_dist = 0\n",
    "    for i in range(len(clusters)):\n",
    "        for j in range(i+1, len(clusters)):\n",
    "            d = calc_dist(clusters[i][0], clusters[i][1], clusters[j][0], clusters[j][1])\n",
    "            if (d > time_dist):\n",
    "                time_dist = d\n",
    "                first_cl = i\n",
    "                second_cl = j\n",
    "    \n",
    "    #Если кластеры разнесены по времени, то перелётная, инчае нет. Для перелётных возвращаем серединки 2 кластеров, найденных в предыдущем пунке, для не перелётных 2 раза середину по всем\n",
    "    if time_dist >= 2.5:\n",
    "        return\n",
    "            bird,\n",
    "            'Перелётная',\n",
    "            monthly_clusters[clustering.labels_ == first_cl, 0].mean(),\n",
    "            monthly_clusters[clustering.labels_ == first_cl, 1].mean(),\n",
    "            monthly_clusters[clustering.labels_ == second_cl, 0].mean(),\n",
    "            monthly_clusters[clustering.labels_ == second_cl, 1].mean()\n",
    "    else:\n",
    "        return\n",
    "            bird,\n",
    "            'Не перелётная',\n",
    "            monthly_clusters[:,0].mean(),\n",
    "            monthly_clusters[:,1].mean(),\n",
    "            monthly_clusters[:,0].mean(),\n",
    "            monthly_clusters[:,1].mean()"
   ]
  },
  {
   "cell_type": "code",
   "execution_count": null,
   "metadata": {},
   "outputs": [],
   "source": [
    "df1 = df.groupby('species')[['gbifID', 'individualCount']].agg({'gbifID' : 'count', 'individualCount' : 'sum'})\n",
    "species = list(df1[df1['gbifID'] > 1000].index)\n",
    "\n",
    "out = [[]]\n",
    "\n",
    "for bird in species:\n",
    "    r = flight_by_bird(bird)\n",
    "    if (r != None):\n",
    "        out.append(list(r))\n",
    "    print(len(out)-1)\n",
    "\n",
    "out = out[1:]\n",
    "out"
   ]
  },
  {
   "cell_type": "code",
   "execution_count": null,
   "metadata": {},
   "outputs": [],
   "source": [
    "df_out = pd.DataFrame(np.array(out), columns = ['Name', 'Type', 'Start_Latitude', 'Start_Longitude', 'Finish_Latitude', 'Finish_Longitude'])"
   ]
  },
  {
   "cell_type": "code",
   "execution_count": null,
   "metadata": {},
   "outputs": [],
   "source": [
    "df_out.to_excel('birds.xlsx', index=False)"
   ]
  },
  {
   "cell_type": "code",
   "execution_count": null,
   "metadata": {},
   "outputs": [],
   "source": []
  }
 ],
 "metadata": {
  "kernelspec": {
   "display_name": "Python 3",
   "language": "python",
   "name": "python3"
  },
  "language_info": {
   "codemirror_mode": {
    "name": "ipython",
    "version": 3
   },
   "file_extension": ".py",
   "mimetype": "text/x-python",
   "name": "python",
   "nbconvert_exporter": "python",
   "pygments_lexer": "ipython3",
   "version": "3.8.5"
  }
 },
 "nbformat": 4,
 "nbformat_minor": 4
}
